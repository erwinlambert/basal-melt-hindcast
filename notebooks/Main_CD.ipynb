{
 "cells": [
  {
   "cell_type": "markdown",
   "metadata": {},
   "source": [
    "Example of how to run the LADDIE model and to plot output"
   ]
  },
  {
   "cell_type": "code",
   "execution_count": null,
   "metadata": {},
   "outputs": [],
   "source": [
    "import sys\n",
    "sys.path.append('../../laddie/src/')\n",
    "sys.path.append('../src2/')\n",
    "\n",
    "import xarray as xr\n",
    "import numpy as np\n",
    "import matplotlib as mpl\n",
    "import matplotlib.pyplot as plt\n",
    "import cmocean as cmo\n",
    "\n",
    "from laddie import Laddie\n",
    "from geometry2 import Geometry\n",
    "from forcing2 import Forcing\n",
    "\n",
    "import preprocess as pp\n",
    "\n",
    "import warnings\n",
    "warnings.filterwarnings('ignore')\n",
    "np.seterr(all='ignore')\n",
    "\n",
    "#%matplotlib widget\n",
    "#%matplotlib inline\n",
    "%config InlineBackend.print_figure_kwargs={'bbox_inches':None}\n",
    "%load_ext autoreload\n",
    "%autoreload 2"
   ]
  },
  {
   "cell_type": "markdown",
   "metadata": {},
   "source": [
    "Prepare model"
   ]
  },
  {
   "cell_type": "code",
   "execution_count": null,
   "metadata": {},
   "outputs": [],
   "source": [
    "reg = 'CD'\n",
    "SMB = 1.0\n",
    "\n",
    "geom = Geometry(reg)\n",
    "geom.coarsen(N=2)\n",
    "geom = geom.create()\n",
    "\n",
    "#forc = Forcing(geom).sose('R2')\n",
    "forc = Forcing(geom).tanh(Tdeep=0.5,ztcl=-500)\n",
    "#forc = Forcing(geom).linear2(S1=34.1,T1=.5)\n",
    "\n",
    "laddie = Laddie(forc)"
   ]
  },
  {
   "cell_type": "code",
   "execution_count": null,
   "metadata": {},
   "outputs": [],
   "source": [
    "#Interpolate ice velocity onto tmask\n",
    "\n",
    "ds0 = xr.open_dataset('../data/velocity/ANT_G0240_0000.nc')\n",
    "ds0 = ds0.reindex(y=list(reversed(ds0.y)))\n",
    "ds0 = ds0.sel(x=slice(np.min(laddie.x.values),np.max(laddie.x.values)),y=slice(np.min(laddie.y.values),np.max(laddie.y.values)))\n",
    "\n",
    "VX = 0.*geom.draft.copy()\n",
    "VY = 0.*geom.draft.copy()\n",
    "\n",
    "for i,ii in enumerate(laddie.x.values):\n",
    "    i0 = np.argmin((ii-ds0.x.values)**2)\n",
    "    for j,jj in enumerate(laddie.y.values):\n",
    "        j0 = np.argmin((jj-ds0.y.values)**2)\n",
    "        VX[j,i] = ds0.vx[j0,i0]\n",
    "        VY[j,i] = ds0.vy[j0,i0]\n",
    "\n",
    "ds0.close()\n",
    "\n",
    "VXp1 = (VX+np.roll(VX,-1,axis=1))/2\n",
    "VYp1 = (VY+np.roll(VY,-1,axis=0))/2\n",
    "VXm1 = (VX+np.roll(VX,1,axis=1))/2\n",
    "VYm1 = (VY+np.roll(VY,1,axis=0))/2"
   ]
  },
  {
   "cell_type": "code",
   "execution_count": null,
   "metadata": {},
   "outputs": [],
   "source": [
    "#Bunch of settings\n",
    "\n",
    "laddie.Ah = 25 #Horizontal viscosity\n",
    "laddie.Kh = 25 #Horizontal diffusivity\n",
    "\n",
    "laddie.Cdtop = 1.1e-3 #Top drag coefficient\n",
    "laddie.minD = 6. #Minimum layer thickness\n",
    "laddie.dt = 96 #Time step\n",
    "laddie.nu = 0.6\n",
    "\n",
    "laddie.slip = .5\n",
    "\n",
    "laddie.utide = .01\n",
    "\n",
    "laddie.diagday = .1\n",
    "\n",
    "laddie.mindrho=None\n",
    "laddie.correctisf = True\n",
    "laddie.vcut = 1."
   ]
  },
  {
   "cell_type": "code",
   "execution_count": null,
   "metadata": {},
   "outputs": [],
   "source": [
    "laddiedays = 1 # number of days to integrate laddie for each ice time step\n",
    "laddiespinup = 20 # number of days to spin up laddie\n",
    "\n",
    "laddie.saveday = laddiedays\n",
    "laddie.restday = laddiedays\n",
    "\n",
    "ds = laddie.compute(days=laddiespinup)\n",
    "#ds = laddie.compute(days=1,restartfile=f'{forc.name_forcing}_019')"
   ]
  },
  {
   "cell_type": "code",
   "execution_count": null,
   "metadata": {},
   "outputs": [],
   "source": [
    "laddiedays = 1. # number of days to integrate laddie for each ice time step\n",
    "\n",
    "laddie.saveday = laddiedays\n",
    "laddie.restday = laddiedays\n",
    "\n",
    "dtice = .5 # ice time step in years\n",
    "Nyears = 50\n",
    "\n",
    "Ntice = int(Nyears/dtice)\n",
    "\n",
    "Nbetween = 20\n",
    "\n",
    "restyear = 65\n",
    "\n",
    "dsav   = xr.open_dataset(f'../results/CD_1.0_tanh_Tdeep0.5_ztcl-500_{restyear:03.0f}.nc')\n",
    "laddie.mask = dsav.mask\n",
    "laddie.zb = dsav.zb\n",
    "dsav.close()\n",
    "\n",
    "#laddie.Ah = 20\n",
    "#laddie.Kh = 20\n",
    "#laddie.dt = 120\n",
    "\n",
    "#laddie.dt = 120\n",
    "#laddie.diagday = .1\n",
    "#laddie.minD = 6.\n",
    "#laddie.slip = .5\n",
    "#laddie.vcut = 1.\n",
    "#laddie.nu = .8\n",
    "ds = laddie.compute(days=1,restartfile=f'{forc.name_forcing}_{restyear:03.0f}')\n",
    "\n",
    "for n in range(Ntice):\n",
    "\n",
    "    for m in range(Nbetween):\n",
    "        #Extract old ice thickness\n",
    "        H = np.where(laddie.tmask==1,-1027/917.*laddie.zb,geom.thickness)\n",
    "\n",
    "        imask = np.where(laddie.mask>0,1,0)\n",
    "\n",
    "        #Compute ice convergence\n",
    "        convN = -(np.maximum(VYp1,0)*H + np.minimum(VYp1,0)*np.roll(H*imask,-1,axis=0))/laddie.dy\n",
    "        convS = (np.maximum(VYm1,0)*np.roll(H*imask,1,axis=0) + np.minimum(VYm1,0)*H)/laddie.dy\n",
    "        convE = -(np.maximum(VXp1,0)*H + np.minimum(VXp1,0)*np.roll(H*imask,-1,axis=1))/laddie.dx\n",
    "        convW = (np.maximum(VXm1,0)*np.roll(H*imask,1,axis=1) + np.minimum(VXm1,0)*H)/laddie.dx\n",
    "        conv = convN+convS+convE+convW * imask\n",
    "\n",
    "        #Compute new ice thickness\n",
    "        melt = laddie.lastmelt\n",
    "\n",
    "        dH = conv-melt + SMB\n",
    "        Hnew = H+dH*dtice/Nbetween\n",
    "\n",
    "        #Recompute ice draft\n",
    "        zbnew = xr.where(laddie.tmask==1,-917./1027*Hnew,laddie.zb)\n",
    "        zbnew = xr.where(np.isnan(zbnew),laddie.zb,zbnew)\n",
    "        laddie.zb = zbnew\n",
    "\n",
    "        calvmask = np.logical_and(laddie.zb>-30,laddie.tmask*(laddie.ocnxm1+laddie.ocnxp1+laddie.ocnym1+laddie.ocnyp1)>0)\n",
    "        #calvmask = np.logical_and(laddie.zb>-30,laddie.tmask==1)\n",
    "        while sum(sum(calvmask))>0:\n",
    "            print(sum(sum(calvmask)))\n",
    "            laddie.zb = xr.where(calvmask,0,laddie.zb)\n",
    "            laddie.mask = xr.where(calvmask,0,laddie.mask)\n",
    "            pp.create_mask(laddie)\n",
    "            calvmask = np.logical_and(laddie.zb>-30,laddie.tmask*(laddie.ocnxm1+laddie.ocnxp1+laddie.ocnym1+laddie.ocnyp1)>0)\n",
    "            #calvmask = np.logical_and(laddie.zb>-30,laddie.tmask==1)\n",
    "\n",
    "    #Integrate Laddie for next ice time step\n",
    "    ds = laddie.compute(days=laddiedays,restartfile=laddie.restartfile)"
   ]
  },
  {
   "cell_type": "code",
   "execution_count": null,
   "metadata": {},
   "outputs": [],
   "source": []
  }
 ],
 "metadata": {
  "kernelspec": {
   "display_name": "Python 3.8.13 ('laddie')",
   "language": "python",
   "name": "python3"
  },
  "language_info": {
   "codemirror_mode": {
    "name": "ipython",
    "version": 3
   },
   "file_extension": ".py",
   "mimetype": "text/x-python",
   "name": "python",
   "nbconvert_exporter": "python",
   "pygments_lexer": "ipython3",
   "version": "3.8.13"
  },
  "orig_nbformat": 4,
  "vscode": {
   "interpreter": {
    "hash": "7f9814b631916b6578bb1882144a98aa5a7fc1e1a79f30bfec08785a4adade49"
   }
  }
 },
 "nbformat": 4,
 "nbformat_minor": 2
}
