{
 "cells": [
  {
   "cell_type": "code",
   "execution_count": null,
   "metadata": {},
   "outputs": [],
   "source": [
    "import xarray as xr\n",
    "import numpy as np\n",
    "import matplotlib as mpl\n",
    "import matplotlib.pyplot as plt\n",
    "import cmocean as cmo"
   ]
  },
  {
   "cell_type": "code",
   "execution_count": null,
   "metadata": {},
   "outputs": [],
   "source": [
    "d0 = 20\n",
    "dpy = 2 # CD: 10 ; PIG: 20\n",
    "\n"
   ]
  },
  {
   "cell_type": "code",
   "execution_count": null,
   "metadata": {},
   "outputs": [],
   "source": [
    "#ds0 = xr.open_dataset(f'../results/CD_1.0_tanh_Tdeep0.5_ztcl-500_{d0:03.0f}.nc')\n",
    "ds0 = xr.open_dataset(f'../results/PIG_1.0_tanh_Tdeep1.0_ztcl-500_{d0:03.0f}.nc')\n",
    "\n",
    "\n",
    "for d,d1 in enumerate(np.arange(20,112)):\n",
    "\n",
    "    #ds = xr.open_dataset(f'../results/CD_1.0_tanh_Tdeep0.5_ztcl-500_{d1:03.0f}.nc')\n",
    "    ds = xr.open_dataset(f'../results/PIG_1.0_tanh_Tdeep1.0_ztcl-500_{d1:03.0f}.nc')\n",
    "\n",
    "    Nyears = (d1-d0)/dpy\n",
    "\n",
    "    fig,ax = plt.subplots(1,2,figsize=(8,7))\n",
    "\n",
    "    for n in [0,1]:\n",
    "        ax[n].pcolormesh(ds0.mask,cmap='cmo.ice',vmin=-3,vmax=3)\n",
    "            \n",
    "    im = ax[0].pcolormesh(np.where(ds.tmask==1,ds.zb,np.nan),vmin=-1500,vmax=0,cmap='gist_stern_r')\n",
    "    cb = plt.colorbar(im,ax=ax[0],orientation='horizontal')\n",
    "    cb.set_label('Draft [m]')\n",
    "\n",
    "    im = ax[1].pcolormesh(np.where(ds.tmask==1,ds.melt,np.nan),norm=mpl.colors.LogNorm(vmin=1, vmax=100),cmap='inferno')\n",
    "    cb = plt.colorbar(im,ax=ax[1],orientation='horizontal')\n",
    "    cb.set_label('Melt [m/yr]')\n",
    "    ax[1].set_title(f'Mean melt: {np.nanmean(np.where(ds.tmask==1,ds.melt,np.nan)):+2.1f} m/yr')\n",
    "\n",
    "\n",
    "    ax[0].set_title(f'Year {Nyears: 2.2f}')\n",
    "\n",
    "\n",
    "    for m in [0,1]:\n",
    "        ax[m].set_xticks([])\n",
    "        ax[m].set_yticks([])\n",
    "        ax[m].set_aspect('equal','box')\n",
    "\n",
    "    ds.close()\n",
    "\n",
    "    #plt.savefig(f'../figures/CD/frame_{d:03.0f}')\n",
    "    plt.savefig(f'../figures/PIG/frame_{d:03.0f}')\n",
    "    print(d,Nyears)\n",
    "    plt.close()"
   ]
  },
  {
   "cell_type": "markdown",
   "metadata": {},
   "source": [
    "ffmpeg -i frame_%03d.png -pix_fmt yuv420p movie_Ah25.mp4"
   ]
  },
  {
   "cell_type": "markdown",
   "metadata": {},
   "source": []
  }
 ],
 "metadata": {
  "kernelspec": {
   "display_name": "Python 3.8.13 ('laddie')",
   "language": "python",
   "name": "python3"
  },
  "language_info": {
   "codemirror_mode": {
    "name": "ipython",
    "version": 3
   },
   "file_extension": ".py",
   "mimetype": "text/x-python",
   "name": "python",
   "nbconvert_exporter": "python",
   "pygments_lexer": "ipython3",
   "version": "3.8.13"
  },
  "orig_nbformat": 4,
  "vscode": {
   "interpreter": {
    "hash": "7f9814b631916b6578bb1882144a98aa5a7fc1e1a79f30bfec08785a4adade49"
   }
  }
 },
 "nbformat": 4,
 "nbformat_minor": 2
}
