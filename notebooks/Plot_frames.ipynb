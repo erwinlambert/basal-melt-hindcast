{
 "cells": [
  {
   "cell_type": "code",
   "execution_count": null,
   "metadata": {},
   "outputs": [],
   "source": [
    "import os\n",
    "import xarray as xr\n",
    "import numpy as np\n",
    "import matplotlib as mpl\n",
    "import matplotlib.pyplot as plt\n",
    "import cmocean as cmo"
   ]
  },
  {
   "cell_type": "code",
   "execution_count": null,
   "metadata": {},
   "outputs": [],
   "source": [
    "d0 = 11\n",
    "dd0 = 64\n",
    "\n",
    "#geom,dpy = 'Thwaites_1.0',10\n",
    "geom,dpy = 'Thwaites_0.5',2\n",
    "\n",
    "forc,moviename = 'tanh_Tdeep0.5_ztcl-500',f'Thwaites/{geom}_cold_SSAfloat'\n",
    "#forc,moviename = 'sose_R2',f'Thwaites/{geom}_warm_SSAfloat'"
   ]
  },
  {
   "cell_type": "code",
   "execution_count": null,
   "metadata": {},
   "outputs": [],
   "source": [
    "ds0 = xr.open_dataset(f'../results/{geom}_{forc}_{d0:03.0f}.nc')\n",
    "\n",
    "for d,d1 in enumerate(np.arange(d0,dd0+1)):\n",
    "\n",
    "    fig,ax = plt.subplots(1,4,figsize=(12,5))\n",
    "\n",
    "    for dax in ax:\n",
    "        dax.set_xticks([])\n",
    "        dax.set_yticks([])\n",
    "        dax.set_aspect('equal','box')\n",
    "\n",
    "    ds = xr.open_dataset(f'../results/{geom}_{forc}_{d1:03.0f}.nc')\n",
    "\n",
    "    Nyears = (d1-d0)/dpy\n",
    "    for dax in ax:\n",
    "        dax.pcolormesh(ds.x,ds.y,ds.mask,cmap='cmo.ice',vmin=-5,vmax=3)\n",
    "        \n",
    "    im = ax[0].pcolormesh(ds.x,ds.y,np.where(ds.mask>0,ds.H,np.nan),vmin=0,vmax=1500,cmap='gist_stern')\n",
    "    cb = plt.colorbar(im,ax=ax[0],orientation='horizontal')\n",
    "    cb.set_label('Ice thickness [m]')\n",
    "\n",
    "    im = ax[1].pcolormesh(ds.x,ds.y,np.where(ds.tmask==1,ds.melt,np.nan),norm=mpl.colors.LogNorm(vmin=1, vmax=100),cmap='inferno')\n",
    "    cb = plt.colorbar(im,ax=ax[1],orientation='horizontal')\n",
    "    cb.set_label('Melt [m/yr]')\n",
    "    ax[1].set_title(f'Mean melt: {np.nanmean(np.where(ds.tmask==1,ds.melt,np.nan)):+2.1f} m/yr')\n",
    "\n",
    "    vel = (ds.Ui**2+ds.Vi**2)**.5\n",
    "    im = ax[2].pcolormesh(ds.x,ds.y,np.where(ds.mask>0,vel,np.nan),norm=mpl.colors.LogNorm(vmin=100, vmax=10000),cmap='cmo.amp')\n",
    "    cb = plt.colorbar(im,ax=ax[2],orientation='horizontal')\n",
    "    cb.set_label('Ice speed [m/yr]')\n",
    "    ax[2].streamplot(ds.x.values,ds.y.values,np.where(ds.mask>0,ds.Ui,np.nan),ds.Vi,color='k',density=2,linewidth=.5,arrowsize=.1)\n",
    "    #ax[2].set_title(f'Mean melt: {np.nanmean(np.where(ds.tmask==1,ds.melt,np.nan)):+2.1f} m/yr')\n",
    "\n",
    "    maskdiff = np.maximum(-1,np.minimum(1,ds.mask-ds0.mask))\n",
    "    im = ax[3].pcolormesh(ds.x,ds.y,maskdiff,vmin=-2,vmax=2,cmap='cmo.balance_r')\n",
    "    cb = plt.colorbar(im,ax=ax[3],orientation='horizontal')\n",
    "    cb.set_label('Calving / Advance')\n",
    "\n",
    "    ds.close()\n",
    "\n",
    "    ax[0].set_title(f'Year {Nyears: 2.1f}')\n",
    "\n",
    "    plt.savefig(f'../videos/tmp/frame_{d:03.0f}')\n",
    "    print(d,Nyears)\n",
    "    plt.close()\n",
    "ds0.close()\n",
    "print('Finished')"
   ]
  },
  {
   "attachments": {},
   "cell_type": "markdown",
   "metadata": {},
   "source": [
    "Create movie. First need to delete old movie manually for security"
   ]
  },
  {
   "cell_type": "code",
   "execution_count": null,
   "metadata": {},
   "outputs": [],
   "source": [
    "os.system(f'ffmpeg -r 4 -f image2 -i ../videos/tmp/frame_%03d.png -pix_fmt yuv420p ../videos/{moviename}.mp4')\n",
    "os.system(f'rm -r ../videos/tmp/*')"
   ]
  }
 ],
 "metadata": {
  "kernelspec": {
   "display_name": "Python 3.8.13 ('laddie')",
   "language": "python",
   "name": "python3"
  },
  "language_info": {
   "codemirror_mode": {
    "name": "ipython",
    "version": 3
   },
   "file_extension": ".py",
   "mimetype": "text/x-python",
   "name": "python",
   "nbconvert_exporter": "python",
   "pygments_lexer": "ipython3",
   "version": "3.8.13 | packaged by conda-forge | (default, Mar 25 2022, 06:06:49) \n[Clang 12.0.1 ]"
  },
  "orig_nbformat": 4,
  "vscode": {
   "interpreter": {
    "hash": "7f9814b631916b6578bb1882144a98aa5a7fc1e1a79f30bfec08785a4adade49"
   }
  }
 },
 "nbformat": 4,
 "nbformat_minor": 2
}
